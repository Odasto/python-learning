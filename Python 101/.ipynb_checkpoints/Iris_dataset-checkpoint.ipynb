{
 "cells": [
  {
   "cell_type": "code",
   "execution_count": 1,
   "metadata": {},
   "outputs": [],
   "source": [
    "iris_file = open(\"iris.csv\", \"r\")\n",
    "next(iris_file)\n",
    "data_list = []\n",
    "for line in iris_file:\n",
    "    raw_data_entry = line.replace(\"\\n\", \"\").split(\",\")\n",
    "    data_entry = (float(raw_data_entry[0]), float(raw_data_entry[1]), float(raw_data_entry[2]), float(raw_data_entry[3]), raw_data_entry[4].replace('\"', \"\"))\n",
    "    data_list.append(data_entry)   \n",
    "iris_file.close()    \n",
    "    "
   ]
  },
  {
   "cell_type": "code",
   "execution_count": 79,
   "metadata": {
    "scrolled": false
   },
   "outputs": [
    {
     "name": "stdout",
     "output_type": "stream",
     "text": [
      "[(5.1, 3.5, 1.4, 0.2, 'Setosa'), (4.9, 3.0, 1.4, 0.2, 'Setosa'), (4.7, 3.2, 1.3, 0.2, 'Setosa'), (4.6, 3.1, 1.5, 0.2, 'Setosa'), (5.0, 3.6, 1.4, 0.2, 'Setosa'), (5.4, 3.9, 1.7, 0.4, 'Setosa'), (4.6, 3.4, 1.4, 0.3, 'Setosa'), (5.0, 3.4, 1.5, 0.2, 'Setosa'), (4.4, 2.9, 1.4, 0.2, 'Setosa'), (4.9, 3.1, 1.5, 0.1, 'Setosa'), (5.4, 3.7, 1.5, 0.2, 'Setosa'), (4.8, 3.4, 1.6, 0.2, 'Setosa'), (4.8, 3.0, 1.4, 0.1, 'Setosa'), (4.3, 3.0, 1.1, 0.1, 'Setosa'), (5.8, 4.0, 1.2, 0.2, 'Setosa'), (5.7, 4.4, 1.5, 0.4, 'Setosa'), (5.4, 3.9, 1.3, 0.4, 'Setosa'), (5.1, 3.5, 1.4, 0.3, 'Setosa'), (5.7, 3.8, 1.7, 0.3, 'Setosa'), (5.1, 3.8, 1.5, 0.3, 'Setosa'), (5.4, 3.4, 1.7, 0.2, 'Setosa'), (5.1, 3.7, 1.5, 0.4, 'Setosa'), (4.6, 3.6, 1.0, 0.2, 'Setosa'), (5.1, 3.3, 1.7, 0.5, 'Setosa'), (4.8, 3.4, 1.9, 0.2, 'Setosa'), (5.0, 3.0, 1.6, 0.2, 'Setosa'), (5.0, 3.4, 1.6, 0.4, 'Setosa'), (5.2, 3.5, 1.5, 0.2, 'Setosa'), (5.2, 3.4, 1.4, 0.2, 'Setosa'), (4.7, 3.2, 1.6, 0.2, 'Setosa'), (4.8, 3.1, 1.6, 0.2, 'Setosa'), (5.4, 3.4, 1.5, 0.4, 'Setosa'), (5.2, 4.1, 1.5, 0.1, 'Setosa'), (5.5, 4.2, 1.4, 0.2, 'Setosa'), (4.9, 3.1, 1.5, 0.2, 'Setosa'), (5.0, 3.2, 1.2, 0.2, 'Setosa'), (5.5, 3.5, 1.3, 0.2, 'Setosa'), (4.9, 3.6, 1.4, 0.1, 'Setosa'), (4.4, 3.0, 1.3, 0.2, 'Setosa'), (5.1, 3.4, 1.5, 0.2, 'Setosa'), (5.0, 3.5, 1.3, 0.3, 'Setosa'), (4.5, 2.3, 1.3, 0.3, 'Setosa'), (4.4, 3.2, 1.3, 0.2, 'Setosa'), (5.0, 3.5, 1.6, 0.6, 'Setosa'), (5.1, 3.8, 1.9, 0.4, 'Setosa'), (4.8, 3.0, 1.4, 0.3, 'Setosa'), (5.1, 3.8, 1.6, 0.2, 'Setosa'), (4.6, 3.2, 1.4, 0.2, 'Setosa'), (5.3, 3.7, 1.5, 0.2, 'Setosa'), (5.0, 3.3, 1.4, 0.2, 'Setosa'), (7.0, 3.2, 4.7, 1.4, 'Versicolor'), (6.4, 3.2, 4.5, 1.5, 'Versicolor'), (6.9, 3.1, 4.9, 1.5, 'Versicolor'), (5.5, 2.3, 4.0, 1.3, 'Versicolor'), (6.5, 2.8, 4.6, 1.5, 'Versicolor'), (5.7, 2.8, 4.5, 1.3, 'Versicolor'), (6.3, 3.3, 4.7, 1.6, 'Versicolor'), (4.9, 2.4, 3.3, 1.0, 'Versicolor'), (6.6, 2.9, 4.6, 1.3, 'Versicolor'), (5.2, 2.7, 3.9, 1.4, 'Versicolor'), (5.0, 2.0, 3.5, 1.0, 'Versicolor'), (5.9, 3.0, 4.2, 1.5, 'Versicolor'), (6.0, 2.2, 4.0, 1.0, 'Versicolor'), (6.1, 2.9, 4.7, 1.4, 'Versicolor'), (5.6, 2.9, 3.6, 1.3, 'Versicolor'), (6.7, 3.1, 4.4, 1.4, 'Versicolor'), (5.6, 3.0, 4.5, 1.5, 'Versicolor'), (5.8, 2.7, 4.1, 1.0, 'Versicolor'), (6.2, 2.2, 4.5, 1.5, 'Versicolor'), (5.6, 2.5, 3.9, 1.1, 'Versicolor'), (5.9, 3.2, 4.8, 1.8, 'Versicolor'), (6.1, 2.8, 4.0, 1.3, 'Versicolor'), (6.3, 2.5, 4.9, 1.5, 'Versicolor'), (6.1, 2.8, 4.7, 1.2, 'Versicolor'), (6.4, 2.9, 4.3, 1.3, 'Versicolor'), (6.6, 3.0, 4.4, 1.4, 'Versicolor'), (6.8, 2.8, 4.8, 1.4, 'Versicolor'), (6.7, 3.0, 5.0, 1.7, 'Versicolor'), (6.0, 2.9, 4.5, 1.5, 'Versicolor'), (5.7, 2.6, 3.5, 1.0, 'Versicolor'), (5.5, 2.4, 3.8, 1.1, 'Versicolor'), (5.5, 2.4, 3.7, 1.0, 'Versicolor'), (5.8, 2.7, 3.9, 1.2, 'Versicolor'), (6.0, 2.7, 5.1, 1.6, 'Versicolor'), (5.4, 3.0, 4.5, 1.5, 'Versicolor'), (6.0, 3.4, 4.5, 1.6, 'Versicolor'), (6.7, 3.1, 4.7, 1.5, 'Versicolor'), (6.3, 2.3, 4.4, 1.3, 'Versicolor'), (5.6, 3.0, 4.1, 1.3, 'Versicolor'), (5.5, 2.5, 4.0, 1.3, 'Versicolor'), (5.5, 2.6, 4.4, 1.2, 'Versicolor'), (6.1, 3.0, 4.6, 1.4, 'Versicolor'), (5.8, 2.6, 4.0, 1.2, 'Versicolor'), (5.0, 2.3, 3.3, 1.0, 'Versicolor'), (5.6, 2.7, 4.2, 1.3, 'Versicolor'), (5.7, 3.0, 4.2, 1.2, 'Versicolor'), (5.7, 2.9, 4.2, 1.3, 'Versicolor'), (6.2, 2.9, 4.3, 1.3, 'Versicolor'), (5.1, 2.5, 3.0, 1.1, 'Versicolor'), (5.7, 2.8, 4.1, 1.3, 'Versicolor'), (6.3, 3.3, 6.0, 2.5, 'Virginica'), (5.8, 2.7, 5.1, 1.9, 'Virginica'), (7.1, 3.0, 5.9, 2.1, 'Virginica'), (6.3, 2.9, 5.6, 1.8, 'Virginica'), (6.5, 3.0, 5.8, 2.2, 'Virginica'), (7.6, 3.0, 6.6, 2.1, 'Virginica'), (4.9, 2.5, 4.5, 1.7, 'Virginica'), (7.3, 2.9, 6.3, 1.8, 'Virginica'), (6.7, 2.5, 5.8, 1.8, 'Virginica'), (7.2, 3.6, 6.1, 2.5, 'Virginica'), (6.5, 3.2, 5.1, 2.0, 'Virginica'), (6.4, 2.7, 5.3, 1.9, 'Virginica'), (6.8, 3.0, 5.5, 2.1, 'Virginica'), (5.7, 2.5, 5.0, 2.0, 'Virginica'), (5.8, 2.8, 5.1, 2.4, 'Virginica'), (6.4, 3.2, 5.3, 2.3, 'Virginica'), (6.5, 3.0, 5.5, 1.8, 'Virginica'), (7.7, 3.8, 6.7, 2.2, 'Virginica'), (7.7, 2.6, 6.9, 2.3, 'Virginica'), (6.0, 2.2, 5.0, 1.5, 'Virginica'), (6.9, 3.2, 5.7, 2.3, 'Virginica'), (5.6, 2.8, 4.9, 2.0, 'Virginica'), (7.7, 2.8, 6.7, 2.0, 'Virginica'), (6.3, 2.7, 4.9, 1.8, 'Virginica'), (6.7, 3.3, 5.7, 2.1, 'Virginica'), (7.2, 3.2, 6.0, 1.8, 'Virginica'), (6.2, 2.8, 4.8, 1.8, 'Virginica'), (6.1, 3.0, 4.9, 1.8, 'Virginica'), (6.4, 2.8, 5.6, 2.1, 'Virginica'), (7.2, 3.0, 5.8, 1.6, 'Virginica'), (7.4, 2.8, 6.1, 1.9, 'Virginica'), (7.9, 3.8, 6.4, 2.0, 'Virginica'), (6.4, 2.8, 5.6, 2.2, 'Virginica'), (6.3, 2.8, 5.1, 1.5, 'Virginica'), (6.1, 2.6, 5.6, 1.4, 'Virginica'), (7.7, 3.0, 6.1, 2.3, 'Virginica'), (6.3, 3.4, 5.6, 2.4, 'Virginica'), (6.4, 3.1, 5.5, 1.8, 'Virginica'), (6.0, 3.0, 4.8, 1.8, 'Virginica'), (6.9, 3.1, 5.4, 2.1, 'Virginica'), (6.7, 3.1, 5.6, 2.4, 'Virginica'), (6.9, 3.1, 5.1, 2.3, 'Virginica'), (5.8, 2.7, 5.1, 1.9, 'Virginica'), (6.8, 3.2, 5.9, 2.3, 'Virginica'), (6.7, 3.3, 5.7, 2.5, 'Virginica'), (6.7, 3.0, 5.2, 2.3, 'Virginica'), (6.3, 2.5, 5.0, 1.9, 'Virginica'), (6.5, 3.0, 5.2, 2.0, 'Virginica'), (6.2, 3.4, 5.4, 2.3, 'Virginica'), (5.9, 3.0, 5.1, 1.8, 'Virginica')]\n"
     ]
    }
   ],
   "source": [
    "print(data_list)\n"
   ]
  },
  {
   "cell_type": "code",
   "execution_count": 3,
   "metadata": {},
   "outputs": [
    {
     "data": {
      "text/plain": [
       "150"
      ]
     },
     "execution_count": 3,
     "metadata": {},
     "output_type": "execute_result"
    }
   ],
   "source": [
    "len(data_list)"
   ]
  },
  {
   "cell_type": "code",
   "execution_count": 4,
   "metadata": {},
   "outputs": [
    {
     "name": "stdout",
     "output_type": "stream",
     "text": [
      "Setosa: 50 Versicolor: 50 Virginica: 50\n"
     ]
    }
   ],
   "source": [
    "setosa_count = 0\n",
    "versicolor_count = 0\n",
    "virginica_count = 0 \n",
    "\n",
    "for data in data_list:\n",
    "    if data[4] == \"Setosa\":\n",
    "        setosa_count+=1\n",
    "    elif data[4] == \"Versicolor\":\n",
    "        versicolor_count+=1\n",
    "    elif data[4] == \"Virginica\":\n",
    "        virginica_count+=1\n",
    "print(\"Setosa: \"+ str(setosa_count), \"Versicolor: \"+ str(versicolor_count), \"Virginica: \"+ str(virginica_count))        "
   ]
  },
  {
   "cell_type": "code",
   "execution_count": 5,
   "metadata": {},
   "outputs": [],
   "source": [
    "def average(data_list, i, classname):\n",
    "    if not 0 <= i <= 3: raise IndexError(\"index must be between 0 and 3\")\n",
    "    attribute_sum = 0\n",
    "    classcount = 0\n",
    "    for data in data_list:\n",
    "        if classname == data[4]:\n",
    "            attribute_sum+=data[i]\n",
    "            classcount+=1\n",
    "    #if classcount == 0: raise RuntimeError(\"no element with classname '\" + classname + \"' found in data_list\")\n",
    "    if classcount == 0: raise RuntimeError(\"no element with classname '{}' found in data_list\".format(classname))\n",
    "    average = attribute_sum/classcount\n",
    "    return average\n",
    "        "
   ]
  },
  {
   "cell_type": "code",
   "execution_count": 6,
   "metadata": {},
   "outputs": [
    {
     "data": {
      "text/plain": [
       "0.2459999999999999"
      ]
     },
     "execution_count": 6,
     "metadata": {},
     "output_type": "execute_result"
    }
   ],
   "source": [
    "average(data_list, 3, \"Setosa\")"
   ]
  },
  {
   "cell_type": "code",
   "execution_count": 7,
   "metadata": {},
   "outputs": [
    {
     "data": {
      "text/plain": [
       "1.3259999999999998"
      ]
     },
     "execution_count": 7,
     "metadata": {},
     "output_type": "execute_result"
    }
   ],
   "source": [
    "average(data_list, 3, \"Versicolor\")"
   ]
  },
  {
   "cell_type": "code",
   "execution_count": 8,
   "metadata": {},
   "outputs": [
    {
     "data": {
      "text/plain": [
       "2.026"
      ]
     },
     "execution_count": 8,
     "metadata": {},
     "output_type": "execute_result"
    }
   ],
   "source": [
    "average(data_list, 3, \"Virginica\")"
   ]
  },
  {
   "cell_type": "code",
   "execution_count": 19,
   "metadata": {},
   "outputs": [],
   "source": [
    "import sys\n",
    "def minimum(data_list, i, classname):\n",
    "    if not 0 <= i <= 3: raise IndexError(\"index must be between 0 and 3\")\n",
    "    current_minimum = sys.float_info.max\n",
    "    classcount = 0\n",
    "    for data in data_list:\n",
    "        if classname == data[4]:\n",
    "            if current_minimum > data[i]:\n",
    "                current_minimum = data[i]\n",
    "            classcount+=1\n",
    "    if classcount == 0: raise RuntimeError(\"no element with classname '{}' found in data_list\".format(classname))            \n",
    "    return current_minimum                \n",
    "            \n",
    "            "
   ]
  },
  {
   "cell_type": "code",
   "execution_count": 20,
   "metadata": {},
   "outputs": [
    {
     "data": {
      "text/plain": [
       "4.3"
      ]
     },
     "execution_count": 20,
     "metadata": {},
     "output_type": "execute_result"
    }
   ],
   "source": [
    "minimum(data_list, 0, \"Setosa\")"
   ]
  },
  {
   "cell_type": "code",
   "execution_count": 21,
   "metadata": {},
   "outputs": [
    {
     "data": {
      "text/plain": [
       "2.3"
      ]
     },
     "execution_count": 21,
     "metadata": {},
     "output_type": "execute_result"
    }
   ],
   "source": [
    "minimum(data_list, 1, \"Setosa\")"
   ]
  },
  {
   "cell_type": "code",
   "execution_count": 22,
   "metadata": {},
   "outputs": [
    {
     "data": {
      "text/plain": [
       "1.0"
      ]
     },
     "execution_count": 22,
     "metadata": {},
     "output_type": "execute_result"
    }
   ],
   "source": [
    "minimum(data_list, 2, \"Setosa\")"
   ]
  },
  {
   "cell_type": "code",
   "execution_count": 23,
   "metadata": {},
   "outputs": [
    {
     "data": {
      "text/plain": [
       "0.1"
      ]
     },
     "execution_count": 23,
     "metadata": {},
     "output_type": "execute_result"
    }
   ],
   "source": [
    "minimum(data_list, 3, \"Setosa\")"
   ]
  },
  {
   "cell_type": "code",
   "execution_count": 24,
   "metadata": {},
   "outputs": [],
   "source": [
    "import sys\n",
    "def maximum(data_list, i, classname):\n",
    "    if not 0 <= i <= 3: raise IndexError(\"index must be between 0 and 3\")\n",
    "    current_maximum = sys.float_info.min\n",
    "    classcount = 0\n",
    "    for data in data_list:\n",
    "        if classname == data[4]:\n",
    "            if current_maximum < data[i]:\n",
    "                current_maximum = data[i]\n",
    "            classcount+=1\n",
    "    if classcount == 0: raise RuntimeError(\"no element with classname '{}' found in data_list\".format(classname))            \n",
    "    return current_maximum    "
   ]
  },
  {
   "cell_type": "code",
   "execution_count": 25,
   "metadata": {},
   "outputs": [
    {
     "data": {
      "text/plain": [
       "5.8"
      ]
     },
     "execution_count": 25,
     "metadata": {},
     "output_type": "execute_result"
    }
   ],
   "source": [
    "maximum(data_list, 0, \"Setosa\")"
   ]
  },
  {
   "cell_type": "code",
   "execution_count": 29,
   "metadata": {},
   "outputs": [
    {
     "data": {
      "text/plain": [
       "0.6"
      ]
     },
     "execution_count": 29,
     "metadata": {},
     "output_type": "execute_result"
    }
   ],
   "source": [
    "maximum(data_list, 3, \"Setosa\")"
   ]
  },
  {
   "cell_type": "code",
   "execution_count": 30,
   "metadata": {},
   "outputs": [],
   "source": [
    "def variance(data_list, i, classname):\n",
    "    classcount = 0\n",
    "    average_i = average(data_list, i, classname)\n",
    "    sum_of_squares = 0\n",
    "    for  data in data_list:\n",
    "        if classname ==data[4]:\n",
    "            sum_of_squares+=(data[i] - average_i)**2\n",
    "            classcount+=1\n",
    "    return sum_of_squares/(classcount-1)        "
   ]
  },
  {
   "cell_type": "code",
   "execution_count": 31,
   "metadata": {},
   "outputs": [
    {
     "data": {
      "text/plain": [
       "0.0111061224489796"
      ]
     },
     "execution_count": 31,
     "metadata": {},
     "output_type": "execute_result"
    }
   ],
   "source": [
    "variance(data_list, 3, \"Setosa\")"
   ]
  },
  {
   "cell_type": "code",
   "execution_count": 42,
   "metadata": {},
   "outputs": [],
   "source": [
    "def covariance(data_list, i, j, classname):\n",
    "    classcount = 0\n",
    "    average_i = average(data_list, i, classname)\n",
    "    average_j = average(data_list, j, classname)\n",
    "    sum_of_mult_dist = 0\n",
    "    for  data in data_list:\n",
    "        if classname ==data[4]:\n",
    "            sum_of_mult_dist+=(data[i] - average_i) * (data[j] - average_j)\n",
    "            classcount+=1\n",
    "    return sum_of_mult_dist/(classcount-1)  "
   ]
  },
  {
   "cell_type": "code",
   "execution_count": 43,
   "metadata": {},
   "outputs": [
    {
     "data": {
      "text/plain": [
       "0.0111061224489796"
      ]
     },
     "execution_count": 43,
     "metadata": {},
     "output_type": "execute_result"
    }
   ],
   "source": [
    "covariance(data_list, 3, 3, \"Setosa\")"
   ]
  },
  {
   "cell_type": "code",
   "execution_count": 59,
   "metadata": {},
   "outputs": [],
   "source": [
    "import math\n",
    "def pearson_coefficient(data_list, i, j, classname):\n",
    "    cov = covariance(data_list, i, j, classname)\n",
    "    variance_i = variance(data_list, i, classname)\n",
    "    variance_j = variance(data_list, j, classname)\n",
    "    return cov / math.sqrt(variance_i * variance_j)\n",
    "    \n"
   ]
  },
  {
   "cell_type": "code",
   "execution_count": 63,
   "metadata": {},
   "outputs": [
    {
     "data": {
      "text/plain": [
       "0.7425466856651595"
      ]
     },
     "execution_count": 63,
     "metadata": {},
     "output_type": "execute_result"
    }
   ],
   "source": [
    "pearson_coefficient(data_list, 0, 1, \"Setosa\")"
   ]
  },
  {
   "cell_type": "code",
   "execution_count": 77,
   "metadata": {},
   "outputs": [
    {
     "name": "stdout",
     "output_type": "stream",
     "text": [
      "    Setosa(0,1): 0.7425466856651595\n",
      "    Setosa(2,3): 0.3316300408041185\n",
      "    Setosa(0,3): 0.2780983529359694\n",
      "    Setosa(0,2): 0.26717575886875716\n",
      "    Setosa(1,3): 0.23275201136287943\n",
      "    Setosa(1,2): 0.17769996678227068\n",
      "\n",
      "Versicolor(2,3): 0.7866680885228168\n",
      "Versicolor(0,2): 0.7540489585920161\n",
      "Versicolor(1,3): 0.6639987200241116\n",
      "Versicolor(1,2): 0.560522091692982\n",
      "Versicolor(0,3): 0.5464610715986299\n",
      "Versicolor(0,1): 0.5259107172828243\n",
      "\n",
      " Virginica(0,2): 0.8642247329355762\n",
      " Virginica(1,3): 0.5377280262661887\n",
      " Virginica(0,1): 0.45722781639411286\n",
      " Virginica(1,2): 0.40104457734278515\n",
      " Virginica(2,3): 0.3221082159003182\n",
      " Virginica(0,3): 0.2811077091573195\n",
      "\n"
     ]
    }
   ],
   "source": [
    "for classname in [\"Setosa\", \"Versicolor\", \"Virginica\"]:\n",
    "    pearson_list = []\n",
    "    for i in range(0,4):\n",
    "        for j in range(i,4):\n",
    "            if i!=j:\n",
    "                pearson_list.append((classname, i, j, pearson_coefficient(data_list, i, j, classname)))\n",
    "    pearson_list.sort(key = lambda x: x[3], reverse = True)\n",
    "    for data in pearson_list:\n",
    "        print(\"{:>10}({},{}): {}\".format(data[0], data[1], data[2], data[3]))\n",
    "    print(\"\")"
   ]
  },
  {
   "cell_type": "code",
   "execution_count": null,
   "metadata": {},
   "outputs": [],
   "source": [
    "#TODO: pearson_coefficient without classname for general data "
   ]
  },
  {
   "cell_type": "code",
   "execution_count": null,
   "metadata": {},
   "outputs": [],
   "source": []
  }
 ],
 "metadata": {
  "kernelspec": {
   "display_name": "Python 3",
   "language": "python",
   "name": "python3"
  },
  "language_info": {
   "codemirror_mode": {
    "name": "ipython",
    "version": 3
   },
   "file_extension": ".py",
   "mimetype": "text/x-python",
   "name": "python",
   "nbconvert_exporter": "python",
   "pygments_lexer": "ipython3",
   "version": "3.8.5"
  }
 },
 "nbformat": 4,
 "nbformat_minor": 4
}
