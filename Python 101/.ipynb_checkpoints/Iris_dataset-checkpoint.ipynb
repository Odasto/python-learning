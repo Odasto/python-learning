{
 "cells": [
  {
   "cell_type": "code",
   "execution_count": 19,
   "metadata": {},
   "outputs": [],
   "source": [
    "iris_file = open(\"iris.csv\", \"r\")\n",
    "next(iris_file)\n",
    "data_list = []\n",
    "for line in iris_file:\n",
    "    raw_data_entry = line.replace(\"\\n\", \"\").split(\",\")\n",
    "    data_entry = (float(raw_data_entry[0]), float(raw_data_entry[1]), float(raw_data_entry[2]), float(raw_data_entry[3]), raw_data_entry[4].replace('\"', \"\"))\n",
    "    data_list.append(data_entry)   \n",
    "    "
   ]
  },
  {
   "cell_type": "code",
   "execution_count": 20,
   "metadata": {
    "scrolled": false
   },
   "outputs": [
    {
     "name": "stdout",
     "output_type": "stream",
     "text": [
      "[(5.1, 3.5, 1.4, 0.2, 'Setosa'), (4.9, 3.0, 1.4, 0.2, 'Setosa'), (4.7, 3.2, 1.3, 0.2, 'Setosa'), (4.6, 3.1, 1.5, 0.2, 'Setosa'), (5.0, 3.6, 1.4, 0.2, 'Setosa'), (5.4, 3.9, 1.7, 0.4, 'Setosa'), (4.6, 3.4, 1.4, 0.3, 'Setosa'), (5.0, 3.4, 1.5, 0.2, 'Setosa'), (4.4, 2.9, 1.4, 0.2, 'Setosa'), (4.9, 3.1, 1.5, 0.1, 'Setosa'), (5.4, 3.7, 1.5, 0.2, 'Setosa'), (4.8, 3.4, 1.6, 0.2, 'Setosa'), (4.8, 3.0, 1.4, 0.1, 'Setosa'), (4.3, 3.0, 1.1, 0.1, 'Setosa'), (5.8, 4.0, 1.2, 0.2, 'Setosa'), (5.7, 4.4, 1.5, 0.4, 'Setosa'), (5.4, 3.9, 1.3, 0.4, 'Setosa'), (5.1, 3.5, 1.4, 0.3, 'Setosa'), (5.7, 3.8, 1.7, 0.3, 'Setosa'), (5.1, 3.8, 1.5, 0.3, 'Setosa'), (5.4, 3.4, 1.7, 0.2, 'Setosa'), (5.1, 3.7, 1.5, 0.4, 'Setosa'), (4.6, 3.6, 1.0, 0.2, 'Setosa'), (5.1, 3.3, 1.7, 0.5, 'Setosa'), (4.8, 3.4, 1.9, 0.2, 'Setosa'), (5.0, 3.0, 1.6, 0.2, 'Setosa'), (5.0, 3.4, 1.6, 0.4, 'Setosa'), (5.2, 3.5, 1.5, 0.2, 'Setosa'), (5.2, 3.4, 1.4, 0.2, 'Setosa'), (4.7, 3.2, 1.6, 0.2, 'Setosa'), (4.8, 3.1, 1.6, 0.2, 'Setosa'), (5.4, 3.4, 1.5, 0.4, 'Setosa'), (5.2, 4.1, 1.5, 0.1, 'Setosa'), (5.5, 4.2, 1.4, 0.2, 'Setosa'), (4.9, 3.1, 1.5, 0.2, 'Setosa'), (5.0, 3.2, 1.2, 0.2, 'Setosa'), (5.5, 3.5, 1.3, 0.2, 'Setosa'), (4.9, 3.6, 1.4, 0.1, 'Setosa'), (4.4, 3.0, 1.3, 0.2, 'Setosa'), (5.1, 3.4, 1.5, 0.2, 'Setosa'), (5.0, 3.5, 1.3, 0.3, 'Setosa'), (4.5, 2.3, 1.3, 0.3, 'Setosa'), (4.4, 3.2, 1.3, 0.2, 'Setosa'), (5.0, 3.5, 1.6, 0.6, 'Setosa'), (5.1, 3.8, 1.9, 0.4, 'Setosa'), (4.8, 3.0, 1.4, 0.3, 'Setosa'), (5.1, 3.8, 1.6, 0.2, 'Setosa'), (4.6, 3.2, 1.4, 0.2, 'Setosa'), (5.3, 3.7, 1.5, 0.2, 'Setosa'), (5.0, 3.3, 1.4, 0.2, 'Setosa'), (7.0, 3.2, 4.7, 1.4, 'Versicolor'), (6.4, 3.2, 4.5, 1.5, 'Versicolor'), (6.9, 3.1, 4.9, 1.5, 'Versicolor'), (5.5, 2.3, 4.0, 1.3, 'Versicolor'), (6.5, 2.8, 4.6, 1.5, 'Versicolor'), (5.7, 2.8, 4.5, 1.3, 'Versicolor'), (6.3, 3.3, 4.7, 1.6, 'Versicolor'), (4.9, 2.4, 3.3, 1.0, 'Versicolor'), (6.6, 2.9, 4.6, 1.3, 'Versicolor'), (5.2, 2.7, 3.9, 1.4, 'Versicolor'), (5.0, 2.0, 3.5, 1.0, 'Versicolor'), (5.9, 3.0, 4.2, 1.5, 'Versicolor'), (6.0, 2.2, 4.0, 1.0, 'Versicolor'), (6.1, 2.9, 4.7, 1.4, 'Versicolor'), (5.6, 2.9, 3.6, 1.3, 'Versicolor'), (6.7, 3.1, 4.4, 1.4, 'Versicolor'), (5.6, 3.0, 4.5, 1.5, 'Versicolor'), (5.8, 2.7, 4.1, 1.0, 'Versicolor'), (6.2, 2.2, 4.5, 1.5, 'Versicolor'), (5.6, 2.5, 3.9, 1.1, 'Versicolor'), (5.9, 3.2, 4.8, 1.8, 'Versicolor'), (6.1, 2.8, 4.0, 1.3, 'Versicolor'), (6.3, 2.5, 4.9, 1.5, 'Versicolor'), (6.1, 2.8, 4.7, 1.2, 'Versicolor'), (6.4, 2.9, 4.3, 1.3, 'Versicolor'), (6.6, 3.0, 4.4, 1.4, 'Versicolor'), (6.8, 2.8, 4.8, 1.4, 'Versicolor'), (6.7, 3.0, 5.0, 1.7, 'Versicolor'), (6.0, 2.9, 4.5, 1.5, 'Versicolor'), (5.7, 2.6, 3.5, 1.0, 'Versicolor'), (5.5, 2.4, 3.8, 1.1, 'Versicolor'), (5.5, 2.4, 3.7, 1.0, 'Versicolor'), (5.8, 2.7, 3.9, 1.2, 'Versicolor'), (6.0, 2.7, 5.1, 1.6, 'Versicolor'), (5.4, 3.0, 4.5, 1.5, 'Versicolor'), (6.0, 3.4, 4.5, 1.6, 'Versicolor'), (6.7, 3.1, 4.7, 1.5, 'Versicolor'), (6.3, 2.3, 4.4, 1.3, 'Versicolor'), (5.6, 3.0, 4.1, 1.3, 'Versicolor'), (5.5, 2.5, 4.0, 1.3, 'Versicolor'), (5.5, 2.6, 4.4, 1.2, 'Versicolor'), (6.1, 3.0, 4.6, 1.4, 'Versicolor'), (5.8, 2.6, 4.0, 1.2, 'Versicolor'), (5.0, 2.3, 3.3, 1.0, 'Versicolor'), (5.6, 2.7, 4.2, 1.3, 'Versicolor'), (5.7, 3.0, 4.2, 1.2, 'Versicolor'), (5.7, 2.9, 4.2, 1.3, 'Versicolor'), (6.2, 2.9, 4.3, 1.3, 'Versicolor'), (5.1, 2.5, 3.0, 1.1, 'Versicolor'), (5.7, 2.8, 4.1, 1.3, 'Versicolor'), (6.3, 3.3, 6.0, 2.5, 'Virginica'), (5.8, 2.7, 5.1, 1.9, 'Virginica'), (7.1, 3.0, 5.9, 2.1, 'Virginica'), (6.3, 2.9, 5.6, 1.8, 'Virginica'), (6.5, 3.0, 5.8, 2.2, 'Virginica'), (7.6, 3.0, 6.6, 2.1, 'Virginica'), (4.9, 2.5, 4.5, 1.7, 'Virginica'), (7.3, 2.9, 6.3, 1.8, 'Virginica'), (6.7, 2.5, 5.8, 1.8, 'Virginica'), (7.2, 3.6, 6.1, 2.5, 'Virginica'), (6.5, 3.2, 5.1, 2.0, 'Virginica'), (6.4, 2.7, 5.3, 1.9, 'Virginica'), (6.8, 3.0, 5.5, 2.1, 'Virginica'), (5.7, 2.5, 5.0, 2.0, 'Virginica'), (5.8, 2.8, 5.1, 2.4, 'Virginica'), (6.4, 3.2, 5.3, 2.3, 'Virginica'), (6.5, 3.0, 5.5, 1.8, 'Virginica'), (7.7, 3.8, 6.7, 2.2, 'Virginica'), (7.7, 2.6, 6.9, 2.3, 'Virginica'), (6.0, 2.2, 5.0, 1.5, 'Virginica'), (6.9, 3.2, 5.7, 2.3, 'Virginica'), (5.6, 2.8, 4.9, 2.0, 'Virginica'), (7.7, 2.8, 6.7, 2.0, 'Virginica'), (6.3, 2.7, 4.9, 1.8, 'Virginica'), (6.7, 3.3, 5.7, 2.1, 'Virginica'), (7.2, 3.2, 6.0, 1.8, 'Virginica'), (6.2, 2.8, 4.8, 1.8, 'Virginica'), (6.1, 3.0, 4.9, 1.8, 'Virginica'), (6.4, 2.8, 5.6, 2.1, 'Virginica'), (7.2, 3.0, 5.8, 1.6, 'Virginica'), (7.4, 2.8, 6.1, 1.9, 'Virginica'), (7.9, 3.8, 6.4, 2.0, 'Virginica'), (6.4, 2.8, 5.6, 2.2, 'Virginica'), (6.3, 2.8, 5.1, 1.5, 'Virginica'), (6.1, 2.6, 5.6, 1.4, 'Virginica'), (7.7, 3.0, 6.1, 2.3, 'Virginica'), (6.3, 3.4, 5.6, 2.4, 'Virginica'), (6.4, 3.1, 5.5, 1.8, 'Virginica'), (6.0, 3.0, 4.8, 1.8, 'Virginica'), (6.9, 3.1, 5.4, 2.1, 'Virginica'), (6.7, 3.1, 5.6, 2.4, 'Virginica'), (6.9, 3.1, 5.1, 2.3, 'Virginica'), (5.8, 2.7, 5.1, 1.9, 'Virginica'), (6.8, 3.2, 5.9, 2.3, 'Virginica'), (6.7, 3.3, 5.7, 2.5, 'Virginica'), (6.7, 3.0, 5.2, 2.3, 'Virginica'), (6.3, 2.5, 5.0, 1.9, 'Virginica'), (6.5, 3.0, 5.2, 2.0, 'Virginica'), (6.2, 3.4, 5.4, 2.3, 'Virginica'), (5.9, 3.0, 5.1, 1.8, 'Virginica')]\n"
     ]
    }
   ],
   "source": [
    "print(data_list)"
   ]
  },
  {
   "cell_type": "code",
   "execution_count": 23,
   "metadata": {},
   "outputs": [
    {
     "data": {
      "text/plain": [
       "150"
      ]
     },
     "execution_count": 23,
     "metadata": {},
     "output_type": "execute_result"
    }
   ],
   "source": [
    "len(data_list)"
   ]
  },
  {
   "cell_type": "code",
   "execution_count": 27,
   "metadata": {},
   "outputs": [
    {
     "name": "stdout",
     "output_type": "stream",
     "text": [
      "Setosa: 50 Versicolor: 50 Virginica: 50\n"
     ]
    }
   ],
   "source": [
    "setosa_count = 0\n",
    "versicolor_count = 0\n",
    "virginica_count = 0 \n",
    "\n",
    "for data in data_list:\n",
    "    if data[4] == \"Setosa\":\n",
    "        setosa_count+=1\n",
    "    elif data[4] == \"Versicolor\":\n",
    "        versicolor_count+=1\n",
    "    elif data[4] == \"Virginica\":\n",
    "        virginica_count+=1\n",
    "print(\"Setosa: \"+ str(setosa_count), \"Versicolor: \"+ str(versicolor_count), \"Virginica: \"+ str(virginica_count))        "
   ]
  },
  {
   "cell_type": "code",
   "execution_count": 70,
   "metadata": {},
   "outputs": [],
   "source": [
    "def average(data_list, i, classname):\n",
    "    if not 0 <= i <= 3: raise IndexError(\"index must be between 0 and 3\")\n",
    "    attribute_sum = 0\n",
    "    classcount = 0\n",
    "    for data in data_list:\n",
    "        if classname == data[4]:\n",
    "            attribute_sum+=data[i]\n",
    "            classcount+=1\n",
    "    #if classcount == 0: raise RuntimeError(\"no element with classname '\" + classname + \"' found in data_list\")\n",
    "    if classcount == 0: raise RuntimeError(\"no element with classname '{}' found in data_list\".format(classname))\n",
    "    average = attribute_sum/classcount\n",
    "    return average\n",
    "        "
   ]
  },
  {
   "cell_type": "code",
   "execution_count": 75,
   "metadata": {},
   "outputs": [
    {
     "data": {
      "text/plain": [
       "0.2459999999999999"
      ]
     },
     "execution_count": 75,
     "metadata": {},
     "output_type": "execute_result"
    }
   ],
   "source": [
    "average(data_list, 3, \"Setosa\")"
   ]
  },
  {
   "cell_type": "code",
   "execution_count": 76,
   "metadata": {},
   "outputs": [
    {
     "data": {
      "text/plain": [
       "1.3259999999999998"
      ]
     },
     "execution_count": 76,
     "metadata": {},
     "output_type": "execute_result"
    }
   ],
   "source": [
    "average(data_list, 3, \"Versicolor\")"
   ]
  },
  {
   "cell_type": "code",
   "execution_count": 77,
   "metadata": {},
   "outputs": [
    {
     "data": {
      "text/plain": [
       "2.026"
      ]
     },
     "execution_count": 77,
     "metadata": {},
     "output_type": "execute_result"
    }
   ],
   "source": [
    "average(data_list, 3, \"Virginica\")"
   ]
  },
  {
   "cell_type": "code",
   "execution_count": null,
   "metadata": {},
   "outputs": [],
   "source": []
  },
  {
   "cell_type": "code",
   "execution_count": null,
   "metadata": {},
   "outputs": [],
   "source": []
  },
  {
   "cell_type": "code",
   "execution_count": null,
   "metadata": {},
   "outputs": [],
   "source": []
  }
 ],
 "metadata": {
  "kernelspec": {
   "display_name": "Python 3",
   "language": "python",
   "name": "python3"
  },
  "language_info": {
   "codemirror_mode": {
    "name": "ipython",
    "version": 3
   },
   "file_extension": ".py",
   "mimetype": "text/x-python",
   "name": "python",
   "nbconvert_exporter": "python",
   "pygments_lexer": "ipython3",
   "version": "3.8.5"
  }
 },
 "nbformat": 4,
 "nbformat_minor": 4
}
